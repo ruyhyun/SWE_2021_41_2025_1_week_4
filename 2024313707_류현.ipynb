{
  "nbformat": 4,
  "nbformat_minor": 0,
  "metadata": {
    "colab": {
      "provenance": [],
      "gpuType": "T4"
    },
    "kernelspec": {
      "name": "python3",
      "display_name": "Python 3"
    },
    "language_info": {
      "name": "python"
    },
    "accelerator": "GPU"
  },
  "cells": [
    {
      "cell_type": "code",
      "execution_count": 7,
      "metadata": {
        "colab": {
          "base_uri": "https://localhost:8080/"
        },
        "id": "Dbw4t30Dt4T1",
        "outputId": "c44b1d21-4a92-4498-d501-9300c2d43bf2"
      },
      "outputs": [
        {
          "output_type": "stream",
          "name": "stdout",
          "text": [
            "True\n",
            "False\n"
          ]
        }
      ],
      "source": [
        "def isHappy(n: int) -> bool:\n",
        "  # Complete the isHappy() function below\n",
        "  # The function should return either True or False\n",
        "  def get_sum(number):\n",
        "    sum = 0\n",
        "    while number > 0:\n",
        "      digit = number % 10\n",
        "      sum += digit * digit\n",
        "      number //= 10\n",
        "    return sum\n",
        "\n",
        "  seen = set()\n",
        "  while n!=1 and n not in seen:\n",
        "    seen.add(n)\n",
        "    n = get_sum(n)\n",
        "\n",
        "  return n==1\n",
        "\n",
        "print(isHappy(19))\n",
        "print(isHappy(16))"
      ]
    }
  ]
}